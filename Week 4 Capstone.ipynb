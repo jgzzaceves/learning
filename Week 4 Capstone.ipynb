{
    "cells": [
        {
            "cell_type": "markdown",
            "metadata": {
                "collapsed": true
            },
            "source": "# Introduction"
        },
        {
            "cell_type": "markdown",
            "metadata": {},
            "source": "Suppose you are the owner of a coffee shop franchise and are looking for a place to put a new place in Mexico. Among the options, you need to choose one of the five major cities in the country: Monterrey, CDMX, Tijuana, Ciudad Ju\u00e1rez and Guadalajara. You focus on three aspects to make the best decision: density of coffee shops, per capita income and population density. So, you will pick the city that has the lowest number of coffee shops per capita around downtown."
        },
        {
            "cell_type": "markdown",
            "metadata": {},
            "source": "# Data"
        },
        {
            "cell_type": "markdown",
            "metadata": {},
            "source": "I will obtain the location of coffee shops in these 5 mexican cities using Foursqaure API. The socioeconomic data I'll obtain from the following pages: https://es.wikipedia.org/wiki/Anexo:Entidades_federativas_de_M%C3%A9xico_por_superficie,_poblaci%C3%B3n_y_densidad and https://es.wikipedia.org/wiki/Anexo:Estados_de_M%C3%A9xico_por_PIB_per_c%C3%A1pita."
        },
        {
            "cell_type": "code",
            "execution_count": null,
            "metadata": {},
            "outputs": [],
            "source": ""
        }
    ],
    "metadata": {
        "kernelspec": {
            "display_name": "Python 3.6",
            "language": "python",
            "name": "python3"
        },
        "language_info": {
            "codemirror_mode": {
                "name": "ipython",
                "version": 3
            },
            "file_extension": ".py",
            "mimetype": "text/x-python",
            "name": "python",
            "nbconvert_exporter": "python",
            "pygments_lexer": "ipython3",
            "version": "3.6.9"
        }
    },
    "nbformat": 4,
    "nbformat_minor": 1
}